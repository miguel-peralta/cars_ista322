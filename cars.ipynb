{
  "nbformat": 4,
  "nbformat_minor": 0,
  "metadata": {
    "colab": {
      "provenance": [],
      "include_colab_link": true
    },
    "kernelspec": {
      "name": "python3",
      "display_name": "Python 3"
    },
    "language_info": {
      "name": "python"
    }
  },
  "cells": [
    {
      "cell_type": "markdown",
      "metadata": {
        "id": "view-in-github",
        "colab_type": "text"
      },
      "source": [
        "<a href=\"https://colab.research.google.com/github/miguel-peralta/cars_ista322/blob/main/cars.ipynb\" target=\"_parent\"><img src=\"https://colab.research.google.com/assets/colab-badge.svg\" alt=\"Open In Colab\"/></a>"
      ]
    },
    {
      "cell_type": "markdown",
      "source": [
        "# Cars Relational Databases\n",
        "ISTA 322 Final Project, Spring 2024 <br>\n",
        "Miguel Candido Aurora Peralta <br>\n",
        "## Extract\n",
        "### KBB Web Scraping\n",
        "The cars are separated into new and used cars categories. The lists new and used cars are on separate pages. These lists will be combined into one for this project.\n",
        "#### Used Cars\n",
        "\n"
      ],
      "metadata": {
        "id": "Zp2AZ6BeHomL"
      }
    },
    {
      "cell_type": "code",
      "execution_count": 173,
      "metadata": {
        "id": "NQ4shfygHkQN"
      },
      "outputs": [],
      "source": [
        "# Imports\n",
        "import requests\n",
        "from bs4 import BeautifulSoup\n",
        "import pandas as pd"
      ]
    },
    {
      "cell_type": "markdown",
      "source": [
        "First we need to get a list of all of the URLs for the car models on KBB so that more information can be extracted from those pages."
      ],
      "metadata": {
        "id": "Q-_c9r4a-TWL"
      }
    },
    {
      "cell_type": "code",
      "source": [
        "def get_html_doc(url):\n",
        "  '''Returns the HTML document as a JSON response for the given URL'''\n",
        "  # requests HTML document for URL\n",
        "  response = requests.get(url)\n",
        "  # returns JSON response\n",
        "  return response.text"
      ],
      "metadata": {
        "id": "S1GQjmjbJ1MV"
      },
      "execution_count": 174,
      "outputs": []
    },
    {
      "cell_type": "code",
      "source": [
        "def get_kbb_df():\n",
        "  '''\n",
        "  Returns a dataframe containing the url, make, model, and year from the\n",
        "  relative URLs listed on the car models list pages.\n",
        "  Returns:\n",
        "    car_info (DataFrame): make, model, year, and url of each model\n",
        "  '''\n",
        "  # Create dataframe and lists to store info\n",
        "  car_info = pd.DataFrame()\n",
        "  urls = []\n",
        "  make = []\n",
        "  model = []\n",
        "  year = []\n",
        "  base_url = 'https://www.kbb.com'\n",
        "\n",
        "  for page in ['new', 'used']:\n",
        "    url = f'https://www.kbb.com/car-make-model-list/{page}'\n",
        "    # Create HTML object from url\n",
        "    html = get_html_doc(url)\n",
        "    soup = BeautifulSoup(html, 'html.parser')\n",
        "    # Create list to store relative URLS from the page\n",
        "    links = []\n",
        "    # Get all links from the page (the links to models all have the same style)\n",
        "    for link in soup.find_all('a', attrs={'style':\"padding:12px 8px;display:inline-block\"}):\n",
        "      # Add links to the list\n",
        "      links.append(link.get('href'))\n",
        "    # Split links using / as delimeter and add information to lists\n",
        "    for car in links:\n",
        "      urls.append(base_url+car)\n",
        "      link_split = car.split('/')\n",
        "      make.append(link_split[1])\n",
        "      model.append(link_split[2])\n",
        "      year.append(link_split[3])\n",
        "\n",
        "  # Use lists to populate dataframe\n",
        "  car_info['url'] = urls\n",
        "  car_info['make'] = make\n",
        "  car_info['model'] = model\n",
        "  car_info['year'] = year\n",
        "\n",
        "  return car_info\n"
      ],
      "metadata": {
        "id": "DvO3B-L45_FQ"
      },
      "execution_count": 175,
      "outputs": []
    },
    {
      "cell_type": "code",
      "source": [
        "kbb = get_kbb_df()"
      ],
      "metadata": {
        "id": "RKJnlFAV7sGA"
      },
      "execution_count": 176,
      "outputs": []
    },
    {
      "cell_type": "code",
      "source": [
        "def get_styles(url):\n",
        "    '''\n",
        "    Given the URL to a year's model of a car, returns a list of the urls to the\n",
        "    styles of that model. If there is no style information available, returns a\n",
        "    1-element list with just the model page URL.\n",
        "    Args:\n",
        "      url (string): url to a year's model of a car\n",
        "    Returns:\n",
        "      styles (list): list of urls for that model's styles\n",
        "    '''\n",
        "    # Create HTML object from url\n",
        "    html = get_html_doc(url)\n",
        "    soup = BeautifulSoup(html, 'html.parser')\n",
        "\n",
        "    # Initialize dataframe\n",
        "    styles = pd.DataFrame(columns=['style_name', 'combined_fuel_econ', 'seating', 'horsepower', 'cylinders', 'engine_type', 'engine_size_l'])\n",
        "\n",
        "    # Get style names\n",
        "    names = soup.find_all('div', attrs={'class' : 'card-heading css-icyrr3'})\n",
        "    styles['style_name'] = names.get_text()[1:]\n",
        "\n",
        "    # Extract other style info\n",
        "    style_info = soup.find_all('div', attrs={'class' : 'css-1g54zqi e151py7u0'})\n",
        "    style_info_text = [x.get_text() for x in style_info]\n",
        "    style_info_text = style_info_text[4:]\n",
        "\n",
        "    mpg_values = style_info_text[::4]\n",
        "    mpg_values = [x.split()[0] for x in mpg_values]\n",
        "    styles['combined_fuel_econ'] = mpg_values\n",
        "\n",
        "    styles['seating'] = style_info_text[1::4]\n",
        "\n",
        "    styles['horsepower'] = style_info_text[2::4]\n",
        "\n",
        "    engine = style_info_text[3::4].split(', ')\n",
        ""
      ],
      "metadata": {
        "id": "lzvIXiUV-muw"
      },
      "execution_count": 209,
      "outputs": []
    },
    {
      "cell_type": "code",
      "source": [
        "url = f'https://www.kbb.com/audi/a3/2022/'\n",
        "print(get_styles_urls(url))"
      ],
      "metadata": {
        "id": "nkVI8ozGPOJI",
        "outputId": "18438138-bbb1-4ccf-81aa-4e85084d9481",
        "colab": {
          "base_uri": "https://localhost:8080/"
        }
      },
      "execution_count": 210,
      "outputs": [
        {
          "output_type": "stream",
          "name": "stdout",
          "text": [
            "['premium plus sedan 4d', 'premium sedan 4d', 'prestige sedan 4d']\n"
          ]
        }
      ]
    },
    {
      "cell_type": "code",
      "source": [
        "kbb['styles'] = kbb['url'].apply(lambda url: get_styles_urls(url))"
      ],
      "metadata": {
        "id": "lN_BdnITOuGG"
      },
      "execution_count": 211,
      "outputs": []
    },
    {
      "cell_type": "code",
      "source": [
        "url = 'https://www.kbb.com/audi/a3/2015/'\n",
        "html = get_html_doc(url)\n",
        "soup = BeautifulSoup(html, 'html.parser')\n",
        "names = soup.find_all('div', attrs={'class' : 'css-1g54zqi e151py7u0'})\n",
        "names_text = [x.get_text() for x in names]\n",
        "print(names_text)\n",
        "mpg_values = names_text[::4]\n",
        "seating = names_text[1::4]\n",
        "print(seating)\n",
        "horsepower = names_text[2::4]\n",
        "engine = names_text[3::4]\n",
        "for i in engine:\n",
        "  print(i.split(', '))"
      ],
      "metadata": {
        "id": "2jnMyI2WVosH",
        "outputId": "03c8d83f-8646-41fb-b4ae-fbfb011aa645",
        "colab": {
          "base_uri": "https://localhost:8080/"
        }
      },
      "execution_count": 262,
      "outputs": [
        {
          "output_type": "stream",
          "name": "stdout",
          "text": [
            "['Fuel Economy', 'Horsepower', 'Engine', 'Cargo Volume', '27 MPG', '5', '170 @ 4500 RPM', '4-cyl, Turbo, 1.8 Liter', '36 MPG', '5', '150 @ 3500 RPM', '4-cyl, Turbo Diesel, 2.0 Liter', '27 MPG', '5', '170 @ 4500 RPM', '4-cyl, Turbo, 1.8 Liter', '36 MPG', '5', '150 @ 3500 RPM', '4-cyl, Turbo Dsl, 2.0L', '27 MPG', '5', '220 @ 4500 RPM', '4-cyl, Turbo, 2.0 Liter', '27 MPG', '5', '220 @ 4500 RPM', '4-cyl, Turbo, 2.0 Liter', '27 MPG', '5', '220 @ 4500 RPM', '4-cyl, Turbo, 2.0 Liter', '36 MPG', '5', '150 @ 3500 RPM', '4-cyl, Turbo Dsl, 2.0L', '27 MPG', '5', '170 @ 4500 RPM', '4-cyl, Turbo, 1.8 Liter']\n",
            "['Horsepower', '5', '5', '5', '5', '5', '5', '5', '5', '5']\n",
            "['Cargo Volume']\n",
            "['4-cyl', 'Turbo', '1.8 Liter']\n",
            "['4-cyl', 'Turbo Diesel', '2.0 Liter']\n",
            "['4-cyl', 'Turbo', '1.8 Liter']\n",
            "['4-cyl', 'Turbo Dsl', '2.0L']\n",
            "['4-cyl', 'Turbo', '2.0 Liter']\n",
            "['4-cyl', 'Turbo', '2.0 Liter']\n",
            "['4-cyl', 'Turbo', '2.0 Liter']\n",
            "['4-cyl', 'Turbo Dsl', '2.0L']\n",
            "['4-cyl', 'Turbo', '1.8 Liter']\n"
          ]
        }
      ]
    },
    {
      "cell_type": "markdown",
      "source": [
        "## Creating make and model tables"
      ],
      "metadata": {
        "id": "_k10L_rVSLPY"
      }
    },
    {
      "cell_type": "code",
      "source": [
        "def create_make_table(kbb):\n",
        "  make = pd.DataFrame(columns = ['make'])\n",
        "  make_list = sorted(kbb['make'].unique())\n",
        "  make['make'] = make_list\n",
        "  make = make.reset_index()\n",
        "  make = make.rename(columns={'index':'make_id'})\n",
        "  return make"
      ],
      "metadata": {
        "id": "CDt5jqsISF13"
      },
      "execution_count": 188,
      "outputs": []
    },
    {
      "cell_type": "code",
      "source": [
        "make = create_make_table(kbb)\n",
        "print(make.head())"
      ],
      "metadata": {
        "id": "FVvosBA9TaRP",
        "outputId": "3e93cda7-52b8-46f6-e639-79a6fbd64705",
        "colab": {
          "base_uri": "https://localhost:8080/"
        }
      },
      "execution_count": 190,
      "outputs": [
        {
          "output_type": "stream",
          "name": "stdout",
          "text": [
            "   make_id      make\n",
            "0        0     acura\n",
            "1        1      audi\n",
            "2        2   bentley\n",
            "3        3       bmw\n",
            "4        4  cadillac\n"
          ]
        }
      ]
    },
    {
      "cell_type": "code",
      "source": [
        "def create_model_table(kbb, make):\n",
        "  # model_id, make_id, year, styles\n",
        "  model = pd.DataFrame(columns=['url', 'make', 'model_name', 'year', 'styles'])\n",
        "  model['url'] = kbb['url']\n",
        "  model['make'] = kbb['make']\n",
        "  model['model_name'] = kbb['model']\n",
        "  model['year'] = kbb['year']\n",
        "  model['styles'] = kbb['styles']\n",
        "\n",
        "  model = pd.merge(model, make, on='make', how='left')\n",
        "  model = model.drop(columns=['make'])\n",
        "  model = model.reset_index()\n",
        "  model = model.rename(columns={'index':'model_id'})\n",
        "  return model"
      ],
      "metadata": {
        "id": "K93PFJInS7xm"
      },
      "execution_count": 213,
      "outputs": []
    },
    {
      "cell_type": "code",
      "source": [
        "model = create_model_table(kbb, make)\n",
        "print(model.head())"
      ],
      "metadata": {
        "id": "npPZfhCtIou6",
        "outputId": "b0c5a679-c903-4fcd-8855-b8e4591d17bd",
        "colab": {
          "base_uri": "https://localhost:8080/"
        }
      },
      "execution_count": 214,
      "outputs": [
        {
          "output_type": "stream",
          "name": "stdout",
          "text": [
            "   model_id                                url model_name  year  \\\n",
            "0         0  https://www.kbb.com/audi/a3/2025/         a3  2025   \n",
            "1         1  https://www.kbb.com/audi/a3/2024/         a3  2024   \n",
            "2         2  https://www.kbb.com/audi/a3/2023/         a3  2023   \n",
            "3         3  https://www.kbb.com/audi/a4/2024/         a4  2024   \n",
            "4         4  https://www.kbb.com/audi/a4/2023/         a4  2023   \n",
            "\n",
            "                                              styles  make_id  \n",
            "0                                                 []        1  \n",
            "1                            [premium, premium plus]        1  \n",
            "2                            [premium, premium plus]        1  \n",
            "3  [40 tfsi premium, s line 45 tfsi premium, 40 t...        1  \n",
            "4  [40 tfsi premium, s line 45 tfsi premium, 40 t...        1  \n"
          ]
        }
      ]
    },
    {
      "cell_type": "markdown",
      "source": [],
      "metadata": {
        "id": "fEST_cBBSPRS"
      }
    },
    {
      "cell_type": "markdown",
      "source": [
        "Next we need to retrieve the ends of the urls for the styles for each model of car. Some cars that are too new don't have any styles listed yet. In this case, we will just return an empty array as all of the information that would be contained on the individual style pages is already on the model page."
      ],
      "metadata": {
        "id": "_zcHhE9_-gS-"
      }
    },
    {
      "cell_type": "code",
      "source": [],
      "metadata": {
        "id": "7JcSeZo_Lpih"
      },
      "execution_count": null,
      "outputs": []
    }
  ]
}