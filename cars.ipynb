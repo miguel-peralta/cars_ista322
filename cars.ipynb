{
  "nbformat": 4,
  "nbformat_minor": 0,
  "metadata": {
    "colab": {
      "provenance": [],
      "authorship_tag": "ABX9TyP5WUcREk192UtraRXh4isV",
      "include_colab_link": true
    },
    "kernelspec": {
      "name": "python3",
      "display_name": "Python 3"
    },
    "language_info": {
      "name": "python"
    }
  },
  "cells": [
    {
      "cell_type": "markdown",
      "metadata": {
        "id": "view-in-github",
        "colab_type": "text"
      },
      "source": [
        "<a href=\"https://colab.research.google.com/github/miguel-peralta/cars_ista322/blob/main/cars.ipynb\" target=\"_parent\"><img src=\"https://colab.research.google.com/assets/colab-badge.svg\" alt=\"Open In Colab\"/></a>"
      ]
    },
    {
      "cell_type": "markdown",
      "source": [
        "# Cars Relational Databases\n",
        "ISTA 322 Final Project, Spring 2024 <br>\n",
        "Miguel Candido Aurora Peralta <br>\n",
        "## Extract\n",
        "### KBB Web Scraping\n",
        "The cars are separated into new and used cars categories. The lists new and used cars are on separate pages. These lists will be combined into one for this project.\n",
        "#### Used Cars\n",
        "\n"
      ],
      "metadata": {
        "id": "Zp2AZ6BeHomL"
      }
    },
    {
      "cell_type": "code",
      "execution_count": 2,
      "metadata": {
        "id": "NQ4shfygHkQN"
      },
      "outputs": [],
      "source": [
        "# Imports\n",
        "import requests\n",
        "from bs4 import BeautifulSoup\n",
        "import pandas as pd"
      ]
    },
    {
      "cell_type": "markdown",
      "source": [
        "First we need to get a list of all of the URLs for the car models on KBB so that more information can be extracted from those pages."
      ],
      "metadata": {
        "id": "Q-_c9r4a-TWL"
      }
    },
    {
      "cell_type": "code",
      "source": [
        "def get_html_doc(url):\n",
        "  '''Returns the HTML document as a JSON response for the given URL'''\n",
        "  # requests HTML document for URL\n",
        "  response = requests.get(url)\n",
        "  # returns JSON response\n",
        "  return response.text"
      ],
      "metadata": {
        "id": "S1GQjmjbJ1MV"
      },
      "execution_count": 8,
      "outputs": []
    },
    {
      "cell_type": "code",
      "source": [
        "def get_models_df():\n",
        "  '''\n",
        "  Returns a dataframe containing the url, make, model, and year from the\n",
        "  relative URLs listed on the car models list pages.\n",
        "  Returns:\n",
        "    car_info (DataFrame): make, model, year, and url of each model\n",
        "  '''\n",
        "  # Create dataframe and lists to store info\n",
        "  car_info = pd.DataFrame()\n",
        "  urls = []\n",
        "  make = []\n",
        "  model = []\n",
        "  year = []\n",
        "  base_url = 'https://www.kbb.com'\n",
        "\n",
        "  for page in ['new', 'used']:\n",
        "    url = f'https://www.kbb.com/car-make-model-list/{page}'\n",
        "    # Create HTML object from url\n",
        "    html = get_html_doc(url)\n",
        "    soup = BeautifulSoup(html, 'html.parser')\n",
        "    # Create list to store relative URLS from the page\n",
        "    links = []\n",
        "    # Get all links from the page (the links to models all have the same style)\n",
        "    for link in soup.find_all('a', attrs={'style':\"padding:12px 8px;display:inline-block\"}):\n",
        "      # Add links to the list\n",
        "      links.append(link.get('href'))\n",
        "    # Split links using / as delimeter and add information to lists\n",
        "    for car in links:\n",
        "      urls.append(base_url+car)\n",
        "      link_split = car.split('/')\n",
        "      make.append(link_split[1])\n",
        "      model.append(link_split[2])\n",
        "      year.append(link_split[3])\n",
        "\n",
        "  # Use lists to populate dataframe\n",
        "  car_info['url'] = urls\n",
        "  car_info['make'] = make\n",
        "  car_info['model'] = model\n",
        "  car_info['year'] = year\n",
        "\n",
        "  return car_info\n"
      ],
      "metadata": {
        "id": "DvO3B-L45_FQ"
      },
      "execution_count": 44,
      "outputs": []
    },
    {
      "cell_type": "code",
      "source": [
        "cars = get_models_df()"
      ],
      "metadata": {
        "id": "RKJnlFAV7sGA"
      },
      "execution_count": 45,
      "outputs": []
    },
    {
      "cell_type": "code",
      "source": [
        "url = f'https://www.kbb.com/car-make-model-list/new'\n",
        "# Create HTML object from url\n",
        "html = get_html_doc(url)\n",
        "soup = BeautifulSoup(html, 'html.parser')\n",
        "print(soup.text)"
      ],
      "metadata": {
        "id": "piQWvr3ZPkvR",
        "outputId": "55b13a11-7dac-49f5-9e47-03b6f5f3cb19",
        "colab": {
          "base_uri": "https://localhost:8080/"
        }
      },
      "execution_count": 32,
      "outputs": [
        {
          "output_type": "stream",
          "name": "stdout",
          "text": [
            "New Car Model/Make Reference List\n",
            "\n",
            "\n",
            "Car ValuesPrice New/UsedMy Car's ValueInstant Cash OfferCars for SaleCars for SaleFree Dealer Price QuoteVehicle History ReportFind Local DealersPrivate Seller ExchangePrivate Seller CarsSell Your CarCar ReviewsBest CarsDealer ReviewsKBB Expert ReviewsElectric Vehicle GuideKBB AwardsLatest Car NewsCar RepairAuto Repair PricesCar RecallsMaintenance PricingFind an Auto ShopService AdvisorOBD-II CodesResearch ToolsCar ResearchCar FinderCompare CarsVehicle History ReportCar ValuesCar LoansInsuranceCheck My CreditExtended WarrantyRecallsHomeAll CarsNew Car Model/Make Reference ListSee Used Car ListNew Car Model/Make Reference ListSort by:ModelMakeJump to:ABCDEFGHIJKLMNOPQRSTUVWXYZNumberView AllModelMakeYearsA3Audi2025, 2024, 2023A4Audi2024, 2023A4 allroadAudi2024, 2023A5Audi2024, 2023A6Audi2024, 2023A6 allroadAudi2024, 2023A7Audi2024, 2023A8Audi2024, 2023AcadiaGMC2024, 2023AccordHonda2024, 2023Accord HybridHonda2024, 2023ADXAcura2025AirLucid2024, 2023AlaskaFisker2025AltimaNissan2024, 2023AriyaNissan2024, 2023ArmadaNissan2024, 2023ArteonVolkswagen2023ArturaMcLaren2023AscentSubaru2024, 2023AtlasVolkswagen2024, 2023Atlas Cross SportVolkswagen2024, 2023AviatorLincoln2025, 2024, 2023FAQ|Contact Us|Do Not Sell My Personal Information|Do Not Process My Sensitive Information|About Us|Careers|Corporate|Advertising|Media|Site Map|KBB Brazil|KBB CanadaFacebookTwitterRSSLinkedInYouTube© 1995-2024 Kelley Blue Book Co.®, Inc. All rights reserved.Copyrights & Trademarks|Vehicle Photos © Evox Images|Terms of Service|Privacy Policy|Linking Policy|Accessibility Statement|Manage Cookies\n"
          ]
        }
      ]
    },
    {
      "cell_type": "markdown",
      "source": [
        "Next we need to retrieve the URLs for the styles for each model of car. Some cars that are too new don't have any styles listed yet. In this case, we will just return the model's URL as all of the information that would be contained on the individual style pages is already there."
      ],
      "metadata": {
        "id": "_zcHhE9_-gS-"
      }
    },
    {
      "cell_type": "code",
      "source": [
        "def get_styles_urls(url)"
      ],
      "metadata": {
        "id": "lzvIXiUV-muw"
      },
      "execution_count": null,
      "outputs": []
    },
    {
      "cell_type": "code",
      "source": [
        "# Create HTML object from url\n",
        "url = f'https://www.kbb.com/audi/a3/2022/'\n",
        "html = get_html_doc(url)\n",
        "soup = BeautifulSoup(html, 'html.parser')\n",
        "# Create list to store relative URLS from the page\n",
        "links = []\n",
        "# Get all links from the page (they all have the attribute target=\"_self\")\n",
        "for link in soup.find_all('a', attrs={'width': '220px'}):\n",
        "  # Add links to the list\n",
        "  links.append(link.get('href'))\n",
        "\n",
        "for i in links:\n",
        "  print(i)"
      ],
      "metadata": {
        "id": "F50zafJVAEvp",
        "outputId": "8daf03ac-9581-4741-f477-2eb20c8f031a",
        "colab": {
          "base_uri": "https://localhost:8080/"
        }
      },
      "execution_count": 16,
      "outputs": [
        {
          "output_type": "stream",
          "name": "stdout",
          "text": [
            "/audi/a3/2022/premium-plus-sedan-4d/\n",
            "/audi/a3/2022/premium-sedan-4d/\n",
            "/audi/a3/2022/prestige-sedan-4d/\n"
          ]
        }
      ]
    },
    {
      "cell_type": "code",
      "source": [],
      "metadata": {
        "id": "7JcSeZo_Lpih"
      },
      "execution_count": null,
      "outputs": []
    }
  ]
}